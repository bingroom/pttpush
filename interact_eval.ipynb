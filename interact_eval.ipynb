{
 "cells": [
  {
   "cell_type": "code",
   "execution_count": 26,
   "metadata": {
    "collapsed": false
   },
   "outputs": [],
   "source": [
    "import csv\n",
    "import json\n",
    "import os\n",
    "import math\n",
    "##import processed push data\n",
    "dir_path = os.getcwd() + '/'\n",
    "with open(dir_path + 'config.txt', 'rb') as f_conf:\n",
    "    config = json.load(f_conf)\n",
    "    f_conf.close() \n",
    "result_dir = config[\"result_dir\"]\n",
    "sample_file = config[\"sample_file\"]\n",
    "temp_path = config[\"temp_path\"]\n",
    "\n",
    "with open(temp_path + os.path.splitext(sample_file)[0] + '_userlist.txt', 'rb') as f_temp:\n",
    "    user_list = json.load(f_temp)\n",
    "    f_temp.close()\n",
    "\n",
    "with open(result_dir + os.path.splitext(sample_file)[0] + '_cv.txt', 'rb') as f_result:\n",
    "    result = csv.reader(f_result)\n",
    "    user_sim_list = [(i, j, float(sim)) for i,j,sim in list(result)]\n",
    "    f_result.close()\n",
    "\n",
    "\n",
    "from IPython.html.widgets import interact\n",
    "def evaluate(thres_sim):\n",
    "    ans_pair_lt_thres = 0 #same user & LT\n",
    "    user_pair_lt_thres = 0 # LT\n",
    "    num_user = len(user_list)\n",
    "    \n",
    "    \n",
    "    sim_list = zip(*user_sim_list)[2]\n",
    "    sim_list = [value for value in sim_list if not math.isnan(value)]\n",
    "    max_thres = max(sim_list)\n",
    "    print max_thres\n",
    "    print thres_sim\n",
    "    if thres_sim > max_thres:\n",
    "        return\n",
    "    \n",
    "    for i,j,sim in user_sim_list:\n",
    "        if i in j and sim >= thres_sim:\n",
    "            ans_pair_lt_thres += 1\n",
    "        if sim >= thres_sim:\n",
    "            user_pair_lt_thres += 1\n",
    "        \n",
    "    #b = len(user_list)\n",
    "    precision = float(ans_pair_lt_thres) / user_pair_lt_thres\n",
    "    recall = float(ans_pair_lt_thres) / num_user\n",
    "    print 'my_precision:', precision , '=', ans_pair_lt_thres, '/', user_pair_lt_thres #how many user their ACC are larger than Thres\n",
    "    print 'my_recall:', recall , '=', ans_pair_lt_thres, '/', num_user\n",
    "    if precision == 0 and recall == 0:\n",
    "        return\n",
    "    print 'f-1 measure:', 2 * (precision * recall) / (precision + recall)\n"
   ]
  },
  {
   "cell_type": "code",
   "execution_count": 27,
   "metadata": {
    "collapsed": false
   },
   "outputs": [
    {
     "name": "stdout",
     "output_type": "stream",
     "text": [
      "1.0\n",
      "0.49\n",
      "my_precision: 0.00179730086361 = 395 / 219774\n",
      "my_recall: 0.550139275766 = 395 / 718\n",
      "f-1 measure: 0.00358289643162\n"
     ]
    }
   ],
   "source": [
    "interact(evaluate, thres_sim=(0.0,1.0,0.01)); #101"
   ]
  },
  {
   "cell_type": "code",
   "execution_count": 33,
   "metadata": {
    "collapsed": false
   },
   "outputs": [
    {
     "data": {
      "text/plain": [
       "[<matplotlib.lines.Line2D at 0x11833e8d0>]"
      ]
     },
     "execution_count": 33,
     "metadata": {},
     "output_type": "execute_result"
    },
    {
     "data": {
      "image/png": "[encoded data removed]",
      "text/plain": [
       "<matplotlib.figure.Figure at 0x10afb3250>"
      ]
     },
     "metadata": {},
     "output_type": "display_data"
    }
   ],
   "source": [
    "%matplotlib inline\n",
    "import math\n",
    "import numpy as np\n",
    "import matplotlib.pyplot as plt\n",
    "sim = zip(*user_sim_list)[2]\n",
    "sim = [x for x in sim if not math.isnan(x)]\n",
    "sorted_sim = sorted(sim, reverse=True)\n",
    "#print sorted_sim\n",
    "plt.plot(sorted_sim)"
   ]
  },
  {
   "cell_type": "code",
   "execution_count": null,
   "metadata": {
    "collapsed": true
   },
   "outputs": [],
   "source": [
    "%matplotlib inline\n",
    "import numpy as np\n",
    "import matplotlib.pyplot as plt\n",
    "from IPython.html.widgets import interactive\n",
    "from IPython.display import display\n",
    "\n",
    "def sigmoid_demo(a=5,b=1):\n",
    "    x = np.linspace(0,10,256)\n",
    "    s = 1/(1+np.exp(-(x-a)/(b+0.1))) # +0.1 to avoid dividing by 0\n",
    "    sn = 100.0*(s-min(s))/(max(s)-min(s)) # normalize sigmoid to 0-100\n",
    "    fig = plt.figure(figsize=(24,6))\n",
    "    ax1 = fig.add_subplot(2, 1, 1)\n",
    "    ax1.set_xticks([])\n",
    "    ax1.set_yticks([])\n",
    "    plt.plot(x,sn,lw=2,color='black')\n",
    "    plt.xlim(x.min(), x.max())\n",
    "\n",
    "w=widgets.interactive(sigmoid_demo,a=5,b=1)\n",
    "display(w)\n",
    "\n",
    "a_slider = widgets.IntSliderWidget(min=-5, max=5, step=1, value=0)\n",
    "b_slider = widgets.FloatSliderWidget(min=-5, max=5, step=0.3, value=0)\n",
    "w=widgets.interactive(sigmoid_demo,a=a_slider,b=b_slider)\n",
    "display(w)"
   ]
  }
 ],
 "metadata": {
  "kernelspec": {
   "display_name": "Python 2",
   "language": "python",
   "name": "python2"
  },
  "language_info": {
   "codemirror_mode": {
    "name": "ipython",
    "version": 2
   },
   "file_extension": ".py",
   "mimetype": "text/x-python",
   "name": "python",
   "nbconvert_exporter": "python",
   "pygments_lexer": "ipython2",
   "version": "2.7.8"
  }
 },
 "nbformat": 4,
 "nbformat_minor": 0
}
